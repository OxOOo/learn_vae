{
 "cells": [
  {
   "cell_type": "markdown",
   "metadata": {},
   "source": [
    "在MNIST数据集上训练VAE，并生成新的图片。"
   ]
  },
  {
   "cell_type": "code",
   "execution_count": 1,
   "metadata": {},
   "outputs": [],
   "source": [
    "from datasets import load_dataset\n",
    "import numpy as np\n",
    "import random\n",
    "import matplotlib.pyplot as plt\n",
    "import torch\n",
    "import torch.nn as nn\n",
    "import torch.optim as optim\n",
    "from torch.utils.data import DataLoader"
   ]
  },
  {
   "cell_type": "code",
   "execution_count": 2,
   "metadata": {},
   "outputs": [
    {
     "data": {
      "text/plain": [
       "Dataset({\n",
       "    features: ['image', 'label'],\n",
       "    num_rows: 60000\n",
       "})"
      ]
     },
     "execution_count": 2,
     "metadata": {},
     "output_type": "execute_result"
    }
   ],
   "source": [
    "dataset = load_dataset(\"ylecun/mnist\", split=\"train\")\n",
    "dataset"
   ]
  },
  {
   "cell_type": "code",
   "execution_count": 3,
   "metadata": {},
   "outputs": [
    {
     "data": {
      "text/plain": [
       "tensor([[0., 0., 0.,  ..., 0., 0., 0.],\n",
       "        [0., 0., 0.,  ..., 0., 0., 0.],\n",
       "        [0., 0., 0.,  ..., 0., 0., 0.],\n",
       "        ...,\n",
       "        [0., 0., 0.,  ..., 0., 0., 0.],\n",
       "        [0., 0., 0.,  ..., 0., 0., 0.],\n",
       "        [0., 0., 0.,  ..., 0., 0., 0.]])"
      ]
     },
     "execution_count": 3,
     "metadata": {},
     "output_type": "execute_result"
    }
   ],
   "source": [
    "images = dataset[\"image\"]\n",
    "\n",
    "# 将图片转成一维向量，并归一化到[0, 1]\n",
    "images = torch.stack([torch.tensor(np.array(img)) for img in images])  # Shape: [60000, 28, 28]\n",
    "images = images.float() / 255.0\n",
    "images = images.reshape(-1, 28*28)  # Flatten to [60000, 784]\n",
    "images"
   ]
  },
  {
   "cell_type": "code",
   "execution_count": 4,
   "metadata": {},
   "outputs": [
    {
     "data": {
      "image/png": "[encoded data removed]",
      "text/plain": [
       "<Figure size 1500x300 with 6 Axes>"
      ]
     },
     "metadata": {},
     "output_type": "display_data"
    }
   ],
   "source": [
    "# 先输出看一下原始图像\n",
    "sampled_indices = random.sample(range(len(images)), 6)\n",
    "sampled_images = images[sampled_indices]\n",
    "sampled_images = sampled_images.reshape(-1, 28, 28)\n",
    "\n",
    "plt.figure(figsize=(15, 3))\n",
    "for i in range(len(sampled_images)):\n",
    "    plt.subplot(1, len(sampled_images), i+1)\n",
    "    plt.imshow(sampled_images[i], cmap='gray')\n",
    "    plt.axis('off')\n",
    "plt.show()\n"
   ]
  },
  {
   "cell_type": "code",
   "execution_count": 5,
   "metadata": {},
   "outputs": [
    {
     "name": "stdout",
     "output_type": "stream",
     "text": [
      "Using device: cuda\n",
      "Epoch 1, Loss: 148.218229490153\n",
      "Epoch 2, Loss: 133.67955553588868\n",
      "Epoch 3, Loss: 130.16485331420898\n",
      "Epoch 4, Loss: 128.34097389933268\n",
      "Epoch 5, Loss: 127.02298073933919\n",
      "Epoch 6, Loss: 126.11066663818359\n",
      "Epoch 7, Loss: 125.45338639119466\n",
      "Epoch 8, Loss: 124.7991173055013\n",
      "Epoch 9, Loss: 124.37660923665365\n",
      "Epoch 10, Loss: 123.91466243896484\n",
      "Epoch 11, Loss: 123.55566061808268\n",
      "Epoch 12, Loss: 123.19481541137695\n",
      "Epoch 13, Loss: 122.90625718180338\n",
      "Epoch 14, Loss: 122.65049377034505\n",
      "Epoch 15, Loss: 122.41688023885091\n",
      "Epoch 16, Loss: 122.21278980916341\n",
      "Epoch 17, Loss: 121.98443272501628\n",
      "Epoch 18, Loss: 121.90538377685547\n",
      "Epoch 19, Loss: 121.65059788004557\n",
      "Epoch 20, Loss: 121.48958971354166\n",
      "Epoch 21, Loss: 121.35167852376303\n",
      "Epoch 22, Loss: 121.23478185221354\n",
      "Epoch 23, Loss: 121.117753902181\n",
      "Epoch 24, Loss: 120.95256010742187\n",
      "Epoch 25, Loss: 120.86798016967774\n",
      "Epoch 26, Loss: 120.76725737508139\n",
      "Epoch 27, Loss: 120.66725927937826\n",
      "Epoch 28, Loss: 120.54188850708007\n",
      "Epoch 29, Loss: 120.43446187744141\n",
      "Epoch 30, Loss: 120.42142758992513\n"
     ]
    }
   ],
   "source": [
    "class VAE_Encoder(nn.Module):\n",
    "    \"\"\"\n",
    "    VAE的encoder，将输入的图片映射到隐变量的分布，输出隐变量分布的均值和方差.\n",
    "    由于方差不能为负，所以这里输出的是log(方差)，而不是方差本身.\n",
    "    \"\"\"\n",
    "    def __init__(self, input_dim, hidden_dim, latent_dim):\n",
    "        super(VAE_Encoder, self).__init__()\n",
    "\n",
    "        self.encoder = nn.Sequential(\n",
    "            nn.Linear(input_dim, hidden_dim),\n",
    "            nn.Tanh()\n",
    "        )\n",
    "\n",
    "        self.fc_mu = nn.Linear(hidden_dim, latent_dim)\n",
    "        self.fc_logvar = nn.Linear(hidden_dim, latent_dim)\n",
    "    \n",
    "    def forward(self, x):\n",
    "        h = self.encoder(x)\n",
    "        return self.fc_mu(h), self.fc_logvar(h)\n",
    "\n",
    "class VAE_Decoder(nn.Module):\n",
    "    \"\"\"\n",
    "    VAE的decoder，将隐变量映射回图片.\n",
    "    \"\"\"\n",
    "    def __init__(self, input_dim, hidden_dim, latent_dim):\n",
    "        super(VAE_Decoder, self).__init__()\n",
    "\n",
    "        self.decoder = nn.Sequential(\n",
    "            nn.Linear(latent_dim, hidden_dim),\n",
    "            nn.Tanh(),\n",
    "            nn.Linear(hidden_dim, input_dim),\n",
    "            nn.Sigmoid()\n",
    "        )\n",
    "\n",
    "    def forward(self, z):\n",
    "        return self.decoder(z)\n",
    "\n",
    "class VAE(nn.Module):\n",
    "    def __init__(self, input_dim=784, hidden_dim=500, latent_dim=5):\n",
    "        super(VAE, self).__init__()\n",
    "\n",
    "        self.latent_dim = latent_dim\n",
    "        \n",
    "        self.encoder = VAE_Encoder(input_dim, hidden_dim, latent_dim)\n",
    "        self.decoder = VAE_Decoder(input_dim, hidden_dim, latent_dim)\n",
    "    \n",
    "    def encode(self, x):\n",
    "        \"\"\"\n",
    "        将输入的图片映射到隐变量的分布，输出隐变量分布的均值和log(方差).\n",
    "        \"\"\"\n",
    "        return self.encoder(x)\n",
    "\n",
    "    def decode(self, z):\n",
    "        \"\"\"\n",
    "        将隐变量映射回图片.\n",
    "        \"\"\"\n",
    "        return self.decoder(z)\n",
    "\n",
    "    def reparameterize(self, mu, logvar):\n",
    "        \"\"\"\n",
    "        重参数化技巧，先从标准正态分布中采样一个epsilon，然后根据隐变量分布的均值和方差，计算出隐变量.\n",
    "        \"\"\"\n",
    "        std = torch.exp(0.5 * logvar) # 计算标准差, std = sqrt(var) = sqrt(exp(logvar)) = exp(logvar/2)\n",
    "        epsilon = torch.randn_like(std, requires_grad=False) # 从标准正态分布中采样epsilon\n",
    "        return mu + epsilon * std\n",
    "\n",
    "    def forward(self, x):\n",
    "        mu, logvar = self.encoder(x)\n",
    "        z = self.reparameterize(mu, logvar)\n",
    "        return self.decoder(z), mu, logvar\n",
    "\n",
    "device = torch.device(\"cuda\" if torch.cuda.is_available() else \"cpu\")\n",
    "print(f\"Using device: {device}\")\n",
    "\n",
    "# 初始化模型\n",
    "model = VAE().to(device)\n",
    "\n",
    "# 定义损失函数\n",
    "def loss_function(x, recon_x, mu, logvar):\n",
    "    # 这里要计算ELBO(也就是论文中的$\\mathcal{L}$)，但是由于论文中的目标是最大化ELBO，pytorch中是最小化loss，所以这里实际计算的是-ELBO\n",
    "    KLD = -0.5 * torch.sum(1 + logvar - mu.pow(2) - logvar.exp()) # 计算KL散度\n",
    "    BCE = nn.functional.binary_cross_entropy(recon_x, x, reduction='sum') # 计算重构误差，对应论文中的$-\\log p_{\\theta}(x|z)$，注意BCE loss本身前面有个负号\n",
    "    return KLD + BCE\n",
    "\n",
    "# 定义优化器\n",
    "optimizer = optim.Adam(model.parameters(), lr=1e-3)\n",
    "\n",
    "# 训练模型\n",
    "data_loader = DataLoader(images, batch_size=16, shuffle=True)\n",
    "for epoch in range(30):\n",
    "    total_losses = []\n",
    "    for batch in data_loader:\n",
    "        batch = batch.to(device)\n",
    "        \n",
    "        optimizer.zero_grad()\n",
    "        recon_batch, mu, logvar = model(batch)\n",
    "        loss = loss_function(batch, recon_batch, mu, logvar)\n",
    "        loss = loss / len(batch)\n",
    "        total_losses.append(loss.item())\n",
    "        loss.backward()\n",
    "        optimizer.step()\n",
    "\n",
    "    print(f\"Epoch {epoch+1}, Loss: {np.mean(total_losses)}\")"
   ]
  },
  {
   "cell_type": "code",
   "execution_count": 6,
   "metadata": {},
   "outputs": [
    {
     "data": {
      "image/png": "[encoded data removed]",
      "text/plain": [
       "<Figure size 1500x300 with 6 Axes>"
      ]
     },
     "metadata": {},
     "output_type": "display_data"
    }
   ],
   "source": [
    "# 生成新的图片\n",
    "with torch.no_grad():\n",
    "    z = torch.randn(6, model.latent_dim).to(device)\n",
    "    recon_batch = model.decode(z)\n",
    "    recon_batch = recon_batch.view(-1, 28, 28).cpu().numpy()\n",
    "\n",
    "plt.figure(figsize=(15, 3))\n",
    "for i in range(len(recon_batch)):\n",
    "    plt.subplot(1, len(recon_batch), i+1)\n",
    "    plt.imshow(recon_batch[i], cmap='gray')\n",
    "    plt.axis('off')\n",
    "plt.show()\n"
   ]
  },
  {
   "cell_type": "code",
   "execution_count": null,
   "metadata": {},
   "outputs": [],
   "source": []
  }
 ],
 "metadata": {
  "kernelspec": {
   "display_name": "cu12",
   "language": "python",
   "name": "python3"
  },
  "language_info": {
   "codemirror_mode": {
    "name": "ipython",
    "version": 3
   },
   "file_extension": ".py",
   "mimetype": "text/x-python",
   "name": "python",
   "nbconvert_exporter": "python",
   "pygments_lexer": "ipython3",
   "version": "3.12.4"
  }
 },
 "nbformat": 4,
 "nbformat_minor": 2
}
