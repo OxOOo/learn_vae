{
 "cells": [
  {
   "cell_type": "code",
   "execution_count": 1,
   "metadata": {},
   "outputs": [],
   "source": [
    "from __future__ import annotations\n",
    "from datasets import load_dataset\n",
    "import numpy as np\n",
    "import random\n",
    "import matplotlib.pyplot as plt\n",
    "import torch\n",
    "import torch.nn as nn\n",
    "import torch.optim as optim\n",
    "from torch import Tensor\n",
    "from torch.utils.data import DataLoader\n",
    "from tqdm import tqdm, trange\n",
    "from collections import deque\n",
    "from pathlib import Path\n",
    "from model import UNet\n",
    "from diffusion import GaussianDiffusionTrainer, GaussianDiffusionSampler"
   ]
  },
  {
   "cell_type": "code",
   "execution_count": 2,
   "metadata": {},
   "outputs": [
    {
     "data": {
      "text/plain": [
       "Dataset({\n",
       "    features: ['img', 'label'],\n",
       "    num_rows: 50000\n",
       "})"
      ]
     },
     "execution_count": 2,
     "metadata": {},
     "output_type": "execute_result"
    }
   ],
   "source": [
    "dataset = load_dataset(\"uoft-cs/cifar10\", split=\"train\")\n",
    "dataset"
   ]
  },
  {
   "cell_type": "code",
   "execution_count": 3,
   "metadata": {},
   "outputs": [
    {
     "name": "stdout",
     "output_type": "stream",
     "text": [
      "images.shape=torch.Size([50000, 3, 32, 32]) images.dtype=torch.float32\n"
     ]
    }
   ],
   "source": [
    "images = dataset[\"img\"]\n",
    "images = torch.stack([torch.tensor(np.array(img)) for img in images])\n",
    "images = images.permute(0, 3, 1, 2) / 255.0 * 2 - 1\n",
    "print(f\"{images.shape=} {images.dtype=}\")"
   ]
  },
  {
   "cell_type": "code",
   "execution_count": 4,
   "metadata": {},
   "outputs": [
    {
     "name": "stdout",
     "output_type": "stream",
     "text": [
      "Using device: cuda\n"
     ]
    }
   ],
   "source": [
    "device = torch.device(\"cuda\" if torch.cuda.is_available() else \"cpu\")\n",
    "print(f\"Using device: {device}\")"
   ]
  },
  {
   "cell_type": "code",
   "execution_count": 5,
   "metadata": {},
   "outputs": [],
   "source": [
    "T = 1000\n",
    "ch = 128\n",
    "ch_mult = [1, 2, 2, 2]\n",
    "attn = [1]\n",
    "num_res_blocks = 2\n",
    "dropout = 0.1\n",
    "lr = 1e-4\n",
    "\n",
    "beta_1 = 1e-4\n",
    "beta_T = 0.02\n",
    "\n",
    "def warmup_lr(step):\n",
    "    warmup = 5000\n",
    "    return min(step, warmup) / warmup\n",
    "\n",
    "# net输入是一幅图像x_t, 输出是x_{t-1}到x_t的噪声?\n",
    "net = UNet(\n",
    "    T=T, ch=ch, ch_mult=ch_mult, attn=attn,\n",
    "    num_res_blocks=num_res_blocks, dropout=dropout)\n",
    "net = net.to(device)\n",
    "\n",
    "optim = torch.optim.Adam(net.parameters(), lr=lr)\n",
    "sched = torch.optim.lr_scheduler.LambdaLR(optim, lr_lambda=warmup_lr)\n",
    "trainer = GaussianDiffusionTrainer(net, beta_1, beta_T, T).to(device)"
   ]
  },
  {
   "cell_type": "code",
   "execution_count": null,
   "metadata": {},
   "outputs": [
    {
     "name": "stderr",
     "output_type": "stream",
     "text": [
      " 49%|████▉     | 395149/800000 [15:30:11<15:41:08,  7.17it/s, loss=0.029]"
     ]
    }
   ],
   "source": [
    "batch_size = 32\n",
    "total_steps = 800000\n",
    "def infiniteloop(dataloader):\n",
    "    while True:\n",
    "        for x in iter(dataloader):\n",
    "            yield x\n",
    "\n",
    "dataloader = DataLoader(images, batch_size=batch_size, shuffle=True, num_workers=4, drop_last=True)\n",
    "datalooper = infiniteloop(dataloader)\n",
    "\n",
    "with trange(total_steps, dynamic_ncols=True) as pbar:\n",
    "    recent_losses = deque(maxlen=1000)\n",
    "    for step in pbar:\n",
    "        # train\n",
    "        optim.zero_grad()\n",
    "        x_0 = next(datalooper).to(device)\n",
    "        loss = trainer(x_0).mean()\n",
    "        loss.backward()\n",
    "        # torch.nn.utils.clip_grad_norm_(net_model.parameters(), FLAGS.grad_clip)\n",
    "        optim.step()\n",
    "        sched.step()\n",
    "        \n",
    "        recent_losses.append(loss.item())\n",
    "        pbar.set_postfix(loss='%.3f' % np.mean(recent_losses))\n",
    "        \n",
    "        if step % 10000 == 0:\n",
    "            ckpt_path = f\"ckpts/cifat10_{step}.pkt\"\n",
    "            Path(ckpt_path).parent.mkdir(exist_ok=True, parents=True)\n",
    "            torch.save(net, ckpt_path)"
   ]
  },
  {
   "cell_type": "code",
   "execution_count": null,
   "metadata": {},
   "outputs": [],
   "source": []
  }
 ],
 "metadata": {
  "kernelspec": {
   "display_name": "base",
   "language": "python",
   "name": "python3"
  },
  "language_info": {
   "codemirror_mode": {
    "name": "ipython",
    "version": 3
   },
   "file_extension": ".py",
   "mimetype": "text/x-python",
   "name": "python",
   "nbconvert_exporter": "python",
   "pygments_lexer": "ipython3",
   "version": "3.11.7"
  }
 },
 "nbformat": 4,
 "nbformat_minor": 2
}
